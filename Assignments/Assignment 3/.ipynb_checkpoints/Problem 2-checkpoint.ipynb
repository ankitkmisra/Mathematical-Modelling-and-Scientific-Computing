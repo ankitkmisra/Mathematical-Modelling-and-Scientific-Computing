{
 "cells": [
  {
   "cell_type": "markdown",
   "metadata": {},
   "source": [
    "# Problem 2\n",
    "\n",
    "## Problem Statement\n",
    "\n",
    "Time for a bit of SciFi in the SciComp course!\n",
    "\n",
    "We’ll be modelling a Zombie apocalypse. The system is modelled by the following equations:\n",
    "\n",
    "1. dS/dt = P - BSZ - nS\n",
    "2. dZ/dt = BSZ + GR - ASZ\n",
    "3. dR/dt = nS + ASZ - GR\n",
    "\n",
    "where the variables involved are:\n",
    "\n",
    "1. S: the number of susceptible victims\n",
    "2. Z: the number of zombies\n",
    "3. R: the number of people \"killed\"\n",
    "4. P: the population birth rate\n",
    "5. n: the chance of a natural death\n",
    "6. B: the chance the \"zombie disease\" is transmitted (an alive person becomes a zombie)\n",
    "7. G: the chance a dead person is resurrected into a zombie\n",
    "8. A: the chance a zombie is totally destroyed\n",
    "\n",
    "Take the following values for the constants:\n",
    "\n",
    "1. P = 0\n",
    "2. n = 0.0001\n",
    "3. B = 0.0095\n",
    "4. G = 0.0001\n",
    "5. A = 0.0001\n",
    "\n",
    "Take the initial populations as: S = 500, Z = 0 and R = 0.\n",
    "\n",
    "Plot for the first 5 days after the zombie apocalypse starts: t = np.linspace(0, 5, 1000).\n",
    "\n",
    "## Solution:"
   ]
  },
  {
   "cell_type": "code",
   "execution_count": 1,
   "metadata": {},
   "outputs": [],
   "source": [
    "from scipy.integrate import odeint\n",
    "import numpy as np\n",
    "import matplotlib.pyplot as plt"
   ]
  },
  {
   "cell_type": "code",
   "execution_count": 2,
   "metadata": {},
   "outputs": [],
   "source": [
    "def model(y, t, P, n, B, G, A):\n",
    "    S, Z, R = y\n",
    "    \n",
    "    dSdt = P - B*S*Z - n*S\n",
    "    dZdt = B*S*Z + G*R - A*S*Z\n",
    "    dRdt = n*S + A*S*Z - G*R\n",
    "    \n",
    "    return [dSdt, dZdt, dRdt]"
   ]
  },
  {
   "cell_type": "code",
   "execution_count": 3,
   "metadata": {},
   "outputs": [],
   "source": [
    "S0 = 500\n",
    "Z0 = 0\n",
    "R0 = 0\n",
    "\n",
    "t = np.linspace(0, 5, 1000)\n",
    "\n",
    "y = odeint(model, [S0, Z0, R0], t, args=(0, 1e-4, 9.5e-3, 1e-4, 1e-4))"
   ]
  },
  {
   "cell_type": "code",
   "execution_count": 4,
   "metadata": {},
   "outputs": [
    {
     "data": {
      "text/plain": [
       "<matplotlib.legend.Legend at 0x7f6931b9ac10>"
      ]
     },
     "execution_count": 4,
     "metadata": {},
     "output_type": "execute_result"
    },
    {
     "data": {
      "image/png": "[encoded data removed]",
      "text/plain": [
       "<Figure size 432x288 with 1 Axes>"
      ]
     },
     "metadata": {
      "needs_background": "light"
     },
     "output_type": "display_data"
    }
   ],
   "source": [
    "plt.plot(t, y[:, 0], label='Susceptibles')\n",
    "plt.plot(t, y[:, 1], label='Zombies')\n",
    "plt.plot(t, y[:, 2], label='Killed')\n",
    "plt.xlabel('Days')\n",
    "plt.ylabel('Population')\n",
    "plt.legend()"
   ]
  }
 ],
 "metadata": {
  "kernelspec": {
   "display_name": "Python 3",
   "language": "python",
   "name": "python3"
  },
  "language_info": {
   "codemirror_mode": {
    "name": "ipython",
    "version": 3
   },
   "file_extension": ".py",
   "mimetype": "text/x-python",
   "name": "python",
   "nbconvert_exporter": "python",
   "pygments_lexer": "ipython3",
   "version": "3.7.6"
  }
 },
 "nbformat": 4,
 "nbformat_minor": 4
}
