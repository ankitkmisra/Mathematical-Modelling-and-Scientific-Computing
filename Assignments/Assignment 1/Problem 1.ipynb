{
 "cells": [
  {
   "cell_type": "markdown",
   "metadata": {},
   "source": [
    "# Problem 1\n",
    "\n",
    "## Problem Statement\n",
    "\n",
    "Code for an open 4x4 Leontief model which reads the data from the file 'leontief_data.txt' and finds the production vector at equilibrium. The demand vector is [25000, 10000, 30000, 50000]. You should print the Leontief matrix and the production vector obtained.\n",
    "\n",
    "## Solution:"
   ]
  },
  {
   "cell_type": "code",
   "execution_count": 1,
   "metadata": {},
   "outputs": [],
   "source": [
    "import numpy as np"
   ]
  },
  {
   "cell_type": "markdown",
   "metadata": {},
   "source": [
    "The following function reads data from a CSV file and returns the list of sectors and the Leontief matrix."
   ]
  },
  {
   "cell_type": "code",
   "execution_count": 2,
   "metadata": {},
   "outputs": [],
   "source": [
    "def read_leontief_data(filename):\n",
    "    \"\"\"\n",
    "    Reads data from a CSV file and constructs and returns the corresponding Leontief matrix, along with a list of\n",
    "    the sectors involved.\n",
    "    \n",
    "    Parameters\n",
    "    ----------\n",
    "    filename : str\n",
    "        Path to a CSV file (a txt file with comma separated values also works) with the first row naming all the\n",
    "        sectors involved and each subsequent row representing the number of output units from that sector\n",
    "        required by each sector to produce one output unit of its own.\n",
    "        \n",
    "    Returns\n",
    "    -------\n",
    "    list\n",
    "        A list of all the sectors involved.\n",
    "    numpy.ndarray\n",
    "        A 2D array containing the Leontief matrix.\n",
    "    \"\"\"\n",
    "    with open(filename, 'r') as f:\n",
    "        lines = f.read().splitlines()\n",
    "        \n",
    "    sectors = [i.strip() for i in lines[0].split(',')]\n",
    "    \n",
    "    leontief_matrix = []\n",
    "    \n",
    "    for line in lines[1:]:\n",
    "        vals = [float(i.strip()) for i in line.split(',')]\n",
    "        if len(vals) != len(sectors):\n",
    "            raise Exception(\"The length of each row in the CSV file must be equal to the number of sectors.\")\n",
    "        leontief_matrix.append(vals)\n",
    "        \n",
    "    leontief_matrix = np.array(leontief_matrix)        \n",
    "    \n",
    "    return sectors, leontief_matrix"
   ]
  },
  {
   "cell_type": "code",
   "execution_count": 3,
   "metadata": {},
   "outputs": [],
   "source": [
    "sectors, leontief_matrix = read_leontief_data('leontief_data.txt')"
   ]
  },
  {
   "cell_type": "markdown",
   "metadata": {},
   "source": [
    "The below code displays the sectors involved and the Leontief matrix for the open system."
   ]
  },
  {
   "cell_type": "code",
   "execution_count": 4,
   "metadata": {},
   "outputs": [
    {
     "data": {
      "text/plain": [
       "['sector1', 'sector2', 'sector3', 'sector4']"
      ]
     },
     "execution_count": 4,
     "metadata": {},
     "output_type": "execute_result"
    }
   ],
   "source": [
    "sectors"
   ]
  },
  {
   "cell_type": "code",
   "execution_count": 5,
   "metadata": {},
   "outputs": [
    {
     "data": {
      "text/plain": [
       "array([[0.1 , 0.05, 0.3 , 0.2 ],\n",
       "       [0.15, 0.25, 0.05, 0.1 ],\n",
       "       [0.3 , 0.1 , 0.1 , 0.25],\n",
       "       [0.15, 0.2 , 0.1 , 0.2 ]])"
      ]
     },
     "execution_count": 5,
     "metadata": {},
     "output_type": "execute_result"
    }
   ],
   "source": [
    "leontief_matrix"
   ]
  },
  {
   "cell_type": "markdown",
   "metadata": {},
   "source": [
    "The `demand_vector` variable is initialized below to the vector provided in the problem statement."
   ]
  },
  {
   "cell_type": "code",
   "execution_count": 6,
   "metadata": {},
   "outputs": [],
   "source": [
    "demand_vector = [25000, 10000, 30000, 50000]"
   ]
  },
  {
   "cell_type": "markdown",
   "metadata": {},
   "source": [
    "The following function returns the equilibrium production vector for an open input-output model, given the Leontief matrix and demand vector."
   ]
  },
  {
   "cell_type": "code",
   "execution_count": 7,
   "metadata": {},
   "outputs": [],
   "source": [
    "def calculate_production_vector(leontief_matrix, demand_vector):\n",
    "    \"\"\"\n",
    "    Returns the equilibrium production vector for an open model.\n",
    "    \n",
    "    Parameters\n",
    "    ----------\n",
    "    leontief_matrix : numpy.ndarray\n",
    "        A 2D array containing the Leontief matrix for an open system.\n",
    "    demand_vector : array-like\n",
    "        A 1D array or list or other array-like object containing the demand vector for the open system.\n",
    "        \n",
    "    Returns\n",
    "    -------\n",
    "    numpy.ndarray\n",
    "        A 1D array containing the equilibrium production values for each sector.\n",
    "    \"\"\"\n",
    "    I = np.identity(leontief_matrix.shape[0])\n",
    "    \n",
    "    modified_matrix = I - leontief_matrix\n",
    "    \n",
    "    production_vector = np.linalg.solve(modified_matrix, demand_vector)\n",
    "    \n",
    "    return production_vector"
   ]
  },
  {
   "cell_type": "code",
   "execution_count": 8,
   "metadata": {},
   "outputs": [],
   "source": [
    "production_vector = calculate_production_vector(leontief_matrix, demand_vector)"
   ]
  },
  {
   "cell_type": "markdown",
   "metadata": {},
   "source": [
    "The below code displays the production vector calculated from the given data."
   ]
  },
  {
   "cell_type": "code",
   "execution_count": 9,
   "metadata": {},
   "outputs": [
    {
     "data": {
      "text/plain": [
       "array([ 85580.98688183,  50622.97601405,  96157.85718206, 103221.91119161])"
      ]
     },
     "execution_count": 9,
     "metadata": {},
     "output_type": "execute_result"
    }
   ],
   "source": [
    "production_vector"
   ]
  },
  {
   "cell_type": "code",
   "execution_count": 10,
   "metadata": {},
   "outputs": [
    {
     "data": {
      "text/plain": [
       "[('sector1', 85580.98688182667),\n",
       " ('sector2', 50622.97601405125),\n",
       " ('sector3', 96157.85718206267),\n",
       " ('sector4', 103221.91119161315)]"
      ]
     },
     "execution_count": 10,
     "metadata": {},
     "output_type": "execute_result"
    }
   ],
   "source": [
    "detailed_production = []\n",
    "\n",
    "for i, sec in enumerate(sectors):\n",
    "    detailed_production.append((sec, production_vector[i]))\n",
    "\n",
    "detailed_production"
   ]
  }
 ],
 "metadata": {
  "kernelspec": {
   "display_name": "Python 3",
   "language": "python",
   "name": "python3"
  },
  "language_info": {
   "codemirror_mode": {
    "name": "ipython",
    "version": 3
   },
   "file_extension": ".py",
   "mimetype": "text/x-python",
   "name": "python",
   "nbconvert_exporter": "python",
   "pygments_lexer": "ipython3",
   "version": "3.7.6"
  }
 },
 "nbformat": 4,
 "nbformat_minor": 4
}
