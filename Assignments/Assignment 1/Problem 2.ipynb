{
 "cells": [
  {
   "cell_type": "markdown",
   "metadata": {},
   "source": [
    "# Problem 2\n",
    "\n",
    "## Problem Statement\n",
    "\n",
    "Find the ranks of 4 webpages using the power iteration method and damping factor = 0.85. Assume the transfer matrix to be:\n",
    "\n",
    "[[0, ½, 0, 0], [⅓, 0, 0, ½], [⅓, 0, 0, ½], [⅓, ½, 1, 0]]\n",
    "\n",
    "## Solution:"
   ]
  },
  {
   "cell_type": "code",
   "execution_count": 1,
   "metadata": {},
   "outputs": [],
   "source": [
    "import numpy as np"
   ]
  },
  {
   "cell_type": "markdown",
   "metadata": {},
   "source": [
    "The below code creates the transfer matrix as instructed above."
   ]
  },
  {
   "cell_type": "code",
   "execution_count": 2,
   "metadata": {},
   "outputs": [],
   "source": [
    "transfer_matrix = np.array([[0, 1/2, 0, 0], [1/3, 0, 0, 1/2], [1/3, 0, 0, 1/2], [1/3, 1/2, 1, 0]])"
   ]
  },
  {
   "cell_type": "code",
   "execution_count": 3,
   "metadata": {},
   "outputs": [
    {
     "data": {
      "text/plain": [
       "array([[0.        , 0.5       , 0.        , 0.        ],\n",
       "       [0.33333333, 0.        , 0.        , 0.5       ],\n",
       "       [0.33333333, 0.        , 0.        , 0.5       ],\n",
       "       [0.33333333, 0.5       , 1.        , 0.        ]])"
      ]
     },
     "execution_count": 3,
     "metadata": {},
     "output_type": "execute_result"
    }
   ],
   "source": [
    "transfer_matrix"
   ]
  },
  {
   "cell_type": "markdown",
   "metadata": {},
   "source": [
    "The following function calculates the PageRank values on a given transfer matrix."
   ]
  },
  {
   "cell_type": "code",
   "execution_count": 4,
   "metadata": {},
   "outputs": [],
   "source": [
    "def pagerank_power_iteration(transfer_matrix, max_iters=100000, damping_factor=0.85):\n",
    "    \"\"\"\n",
    "    Returns the PageRank vector corresponding to the given transfer matrix.\n",
    "    \n",
    "    Parameters\n",
    "    ----------\n",
    "    transfer_matrix : numpy.ndarray\n",
    "        A 2D array containing the transfer matrix for the network.\n",
    "    max_iters : int\n",
    "        The maximum number of iterations for power iteration method of calculation.\n",
    "    damping_factor : float\n",
    "        The probability (between 0 and 1) at any step of the user continuing to use hyperlinks rather than\n",
    "        jumping to a random page in the network.\n",
    "        \n",
    "    Returns\n",
    "    -------\n",
    "    numpy.ndarray\n",
    "        A 1D array containing PageRank values in the same order as in the input transfer matrix.\n",
    "    \"\"\"\n",
    "    L1 = transfer_matrix\n",
    "    \n",
    "    num_nodes = L1.shape[0]\n",
    "    \n",
    "    L2 = np.full((num_nodes, num_nodes), 1/num_nodes)\n",
    "    \n",
    "    L = damping_factor*L1 + (1-damping_factor)*L2\n",
    "    \n",
    "    r = np.full((num_nodes, 1), 1/num_nodes)\n",
    "    \n",
    "    for i in range(max_iters):\n",
    "        prev_r = r\n",
    "        r = np.dot(L, r)\n",
    "        if (r == prev_r).all():\n",
    "            break\n",
    "            \n",
    "    return r"
   ]
  },
  {
   "cell_type": "markdown",
   "metadata": {},
   "source": [
    "The following code displays the final PageRank vector."
   ]
  },
  {
   "cell_type": "code",
   "execution_count": 5,
   "metadata": {},
   "outputs": [
    {
     "data": {
      "text/plain": [
       "array([[0.13921911],\n",
       "       [0.23933908],\n",
       "       [0.23933908],\n",
       "       [0.38210274]])"
      ]
     },
     "execution_count": 5,
     "metadata": {},
     "output_type": "execute_result"
    }
   ],
   "source": [
    "pagerank_power_iteration(transfer_matrix)"
   ]
  },
  {
   "cell_type": "markdown",
   "metadata": {},
   "source": [
    "The PageRanks in the above vector are in the same order as in the transfer matrix given."
   ]
  }
 ],
 "metadata": {
  "kernelspec": {
   "display_name": "Python 3",
   "language": "python",
   "name": "python3"
  },
  "language_info": {
   "codemirror_mode": {
    "name": "ipython",
    "version": 3
   },
   "file_extension": ".py",
   "mimetype": "text/x-python",
   "name": "python",
   "nbconvert_exporter": "python",
   "pygments_lexer": "ipython3",
   "version": "3.7.6"
  }
 },
 "nbformat": 4,
 "nbformat_minor": 4
}
