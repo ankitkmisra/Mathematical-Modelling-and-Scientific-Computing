{
 "cells": [
  {
   "cell_type": "markdown",
   "metadata": {},
   "source": [
    "# Problem 3\n",
    "\n",
    "## Problem Statement\n",
    "\n",
    "Flights between various European and American cities are as shown in the network below. Find the ranking of cities in terms of flight connectivity using the PageRank algorithm.\n",
    "\n",
    "![Flight Connections](graph_3.png)\n",
    "\n",
    "## Solution:"
   ]
  },
  {
   "cell_type": "code",
   "execution_count": 1,
   "metadata": {},
   "outputs": [],
   "source": [
    "import networkx as nx\n",
    "import numpy as np\n",
    "%matplotlib inline\n",
    "from matplotlib import pyplot as plt"
   ]
  },
  {
   "cell_type": "markdown",
   "metadata": {},
   "source": [
    "Now, we could just construct the transfer matrix manually by observing the diagram, but that would be boring. So let's make the computer do that part too. We first create a NetworkX directed graph from the given flight connectivity network."
   ]
  },
  {
   "cell_type": "code",
   "execution_count": 2,
   "metadata": {},
   "outputs": [
    {
     "data": {
      "image/png": "[encoded data removed]",
      "text/plain": [
       "<Figure size 432x288 with 1 Axes>"
      ]
     },
     "metadata": {},
     "output_type": "display_data"
    }
   ],
   "source": [
    "G = nx.DiGraph()\n",
    "\n",
    "G.add_nodes_from(['Paris', 'London', 'New York', 'Chicago', 'Berlin'])\n",
    "\n",
    "G.add_edge('Paris', 'London')\n",
    "G.add_edge('Paris', 'New York')\n",
    "G.add_edge('Paris', 'Berlin')\n",
    "G.add_edge('London', 'Paris')\n",
    "G.add_edge('London', 'New York')\n",
    "G.add_edge('London', 'Berlin')\n",
    "G.add_edge('London', 'Chicago')\n",
    "G.add_edge('Chicago', 'Paris')\n",
    "G.add_edge('Chicago', 'London')\n",
    "G.add_edge('Chicago', 'New York')\n",
    "G.add_edge('Berlin', 'Paris')\n",
    "G.add_edge('Berlin', 'London')\n",
    "G.add_edge('Berlin', 'Chicago')\n",
    "G.add_edge('New York', 'London')\n",
    "G.add_edge('New York', 'Berlin')\n",
    "G.add_edge('New York', 'Chicago')\n",
    "\n",
    "nx.draw(G, with_labels=True)\n",
    "plt.show()"
   ]
  },
  {
   "cell_type": "markdown",
   "metadata": {},
   "source": [
    "The following function uses the power iteration method to determine PageRanks of nodes involved in a DiGraph."
   ]
  },
  {
   "cell_type": "code",
   "execution_count": 3,
   "metadata": {},
   "outputs": [],
   "source": [
    "def pagerank_power_iteration(digraph, max_iters=1000000, damping_factor=0.85):\n",
    "    \"\"\"\n",
    "    Uses the power iteration method to determine and return a list of tuples of the form\n",
    "    (node name, PageRank of node, relative rank of node), sorted in decreasing order of PageRank.\n",
    "    \n",
    "    Parameters\n",
    "    ----------\n",
    "    digraph : networkx.classes.digraph.DiGraph object\n",
    "        A directed graph, in which PageRanks of nodes are to be calculated.\n",
    "    max_iters : int\n",
    "        The maximum number of power iterations to be used in the algorithm. Default value is 1,000,000.\n",
    "    damping_factor : float\n",
    "        The probability (between 0 and 1), at any step, of the user jumping from a node to a random node in\n",
    "        the directed graph instead of moving to a neighbor node. Default value is 0.85.\n",
    "        \n",
    "    Returns\n",
    "    -------\n",
    "    list\n",
    "        A list of tuples of the form (node name, PageRank of node, relative rank of node), sorted in decreasing\n",
    "        order of PageRank.\n",
    "    \"\"\"\n",
    "    nodes_list = list(digraph)\n",
    "    num_nodes = len(nodes_list)\n",
    "    \n",
    "    L1 = np.zeros((num_nodes, num_nodes))\n",
    "    \n",
    "    for x, n1 in enumerate(nodes_list):\n",
    "        if digraph.out_degree(n1) == 0:\n",
    "            for y in range(num_nodes):\n",
    "                L1[y, x] = 1/num_nodes\n",
    "        else:\n",
    "            for y, n2 in enumerate(nodes_list):\n",
    "                if digraph.has_edge(n1, n2):\n",
    "                    L1[y, x] = 1/digraph.out_degree(n1)\n",
    "                    \n",
    "    L2 = np.full((num_nodes, num_nodes), 1/num_nodes)\n",
    "    \n",
    "    L = damping_factor*L1 + (1-damping_factor)*L2\n",
    "    \n",
    "    r = np.full((num_nodes, 1), 1/num_nodes)\n",
    "    \n",
    "    for i in range(max_iters):\n",
    "        prev_r = r\n",
    "        r = np.dot(L, r)\n",
    "        if (r == prev_r).all():\n",
    "            break\n",
    "    \n",
    "    tmp = {}\n",
    "    \n",
    "    for i, node in enumerate(nodes_list):\n",
    "        tmp[node] = r[i, 0]\n",
    "        \n",
    "    tmp = sorted(tmp.items(), key = lambda x: (x[1], x[0]))\n",
    "    \n",
    "    pr_list = []\n",
    "    \n",
    "    for i, pair in enumerate(tmp[::-1]):\n",
    "        pr_list.append((pair[0], pair[1], i+1))\n",
    "        \n",
    "    return pr_list"
   ]
  },
  {
   "cell_type": "markdown",
   "metadata": {},
   "source": [
    "Finally, we execute the function on our particular graph. Travellers cannot teleport (none I've met, at least), so we use a damping factor of 1.0."
   ]
  },
  {
   "cell_type": "code",
   "execution_count": 4,
   "metadata": {},
   "outputs": [
    {
     "data": {
      "text/plain": [
       "[('London', 0.24415584415584443, 1),\n",
       " ('Paris', 0.18896103896103916, 2),\n",
       " ('New York', 0.18896103896103916, 3),\n",
       " ('Chicago', 0.18896103896103916, 4),\n",
       " ('Berlin', 0.18896103896103916, 5)]"
      ]
     },
     "execution_count": 4,
     "metadata": {},
     "output_type": "execute_result"
    }
   ],
   "source": [
    "pagerank_power_iteration(G)"
   ]
  },
  {
   "cell_type": "markdown",
   "metadata": {},
   "source": [
    "Et voila! We now have the PageRanks of all 5 cities. It looks like London is the most popular, and all others are equally popular to each other."
   ]
  }
 ],
 "metadata": {
  "kernelspec": {
   "display_name": "Python 3",
   "language": "python",
   "name": "python3"
  },
  "language_info": {
   "codemirror_mode": {
    "name": "ipython",
    "version": 3
   },
   "file_extension": ".py",
   "mimetype": "text/x-python",
   "name": "python",
   "nbconvert_exporter": "python",
   "pygments_lexer": "ipython3",
   "version": "3.7.6"
  }
 },
 "nbformat": 4,
 "nbformat_minor": 4
}
