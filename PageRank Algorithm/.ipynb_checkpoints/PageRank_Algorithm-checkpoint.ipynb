{
 "cells": [
  {
   "cell_type": "markdown",
   "metadata": {},
   "source": [
    "# Implementing the PageRank Algorithm\n",
    "\n",
    "This notebook implements the PageRank algorithm, an idea that is at the heart of Google's search algorithms."
   ]
  },
  {
   "cell_type": "code",
   "execution_count": 1,
   "metadata": {},
   "outputs": [],
   "source": [
    "import networkx as nx\n",
    "import numpy as np\n",
    "import random\n",
    "%matplotlib inline\n",
    "from matplotlib import pyplot as plt"
   ]
  },
  {
   "cell_type": "markdown",
   "metadata": {},
   "source": [
    "## Creating a Directed Graph\n",
    "\n",
    "The following `create_graph` function builds and returns a directed graph, to be used later for executing the PageRank algorithm. The graph may either be created from a user-provided CSV file, or it may be generated randomly."
   ]
  },
  {
   "cell_type": "code",
   "execution_count": 2,
   "metadata": {},
   "outputs": [],
   "source": [
    "def create_graph(graph_file=None, num_nodes=10, p=0.35):\n",
    "    \"\"\"\n",
    "    Creates and returns a directed graph.\n",
    "    \n",
    "    If the path to a CSV file containing details about edges for the directed graph is provided as the\n",
    "    'graph_file' argument, the corresponding directed graph is created. Otherwise, a random directed graph is\n",
    "    generated with 'num_nodes' nodes in which each edge is included with a probability of 'p'.\n",
    "    \n",
    "    Parameters\n",
    "    ----------\n",
    "    graph_file : str\n",
    "        The path to a CSV file with any number of rows, each row of the form 'P1,P2', indicating the presence\n",
    "        of a directed edge from node P1 to node P2. Default value is None. Note that this function treats every\n",
    "        node name as a string.\n",
    "    num_nodes : int\n",
    "        The number of nodes to be included in the randomly generated directed graph, considered if and only if\n",
    "        graph_file=None. Default value is 10.\n",
    "    p : float\n",
    "        The probability (between 0 and 1) with which each directed edge is included in the randomly generated\n",
    "        directed graph, considered if and only if graph_file=None. Default value is 0.35.\n",
    "        \n",
    "    Returns\n",
    "    -------\n",
    "    networkx.classes.digraph.DiGraph object\n",
    "        A directed graph\n",
    "    \"\"\"\n",
    "    G = nx.DiGraph()\n",
    "    \n",
    "    if graph_file is None:\n",
    "        G = nx.gnp_random_graph(num_nodes, p, directed=True)\n",
    "        \n",
    "    else:\n",
    "        with open(graph_file, 'r') as f:\n",
    "            lines = f.read().splitlines()\n",
    "        for line in lines:\n",
    "            nodes = [i.strip() for i in line.split(',')]\n",
    "            if len(nodes) != 2:\n",
    "                raise Exception(\"The length of each row in the CSV file must be exactly 2.\")\n",
    "            G.add_nodes_from(nodes)\n",
    "            G.add_edge(nodes[0], nodes[1])\n",
    "                \n",
    "    return G"
   ]
  },
  {
   "cell_type": "markdown",
   "metadata": {},
   "source": [
    "Let us now create a graph using this function, and visualize it."
   ]
  },
  {
   "cell_type": "code",
   "execution_count": 3,
   "metadata": {},
   "outputs": [
    {
     "data": {
      "image/png": "[encoded data removed]",
      "text/plain": [
       "<Figure size 432x288 with 1 Axes>"
      ]
     },
     "metadata": {},
     "output_type": "display_data"
    }
   ],
   "source": [
    "G = create_graph('pagesData.csv')\n",
    "nx.draw(G, with_labels=True)\n",
    "plt.show()"
   ]
  },
  {
   "cell_type": "markdown",
   "metadata": {},
   "source": [
    "## PageRank Calculation using Power Iteration\n",
    "\n",
    "The following function `pagerank_power_iteration` calculates the PageRanks of all pages involved using the power iteration method. This method is very accurate and speed is optimized by using NumPy. (This runs quite a bit faster than the random walk simulation method later below.)"
   ]
  },
  {
   "cell_type": "code",
   "execution_count": 4,
   "metadata": {},
   "outputs": [],
   "source": [
    "def pagerank_power_iteration(digraph, max_iters=1000000, damping_factor=0.85):\n",
    "    \"\"\"\n",
    "    Uses the power iteration method to determine and return a list of tuples of the form\n",
    "    (node name, PageRank of node, relative rank of node), sorted in decreasing order of PageRank.\n",
    "    \n",
    "    Parameters\n",
    "    ----------\n",
    "    digraph : networkx.classes.digraph.DiGraph object\n",
    "        A directed graph, in which PageRanks of nodes are to be calculated.\n",
    "    max_iters : int\n",
    "        The maximum number of power iterations to be used in the algorithm. Default value is 1,000,000.\n",
    "    damping_factor : float\n",
    "        The probability (between 0 and 1), at any step, of the user jumping from a node to a random node in\n",
    "        the directed graph instead of moving to a neighbor node. Default value is 0.85.\n",
    "        \n",
    "    Returns\n",
    "    -------\n",
    "    list\n",
    "        A list of tuples of the form (node name, PageRank of node, relative rank of node), sorted in decreasing\n",
    "        order of PageRank.\n",
    "    \"\"\"\n",
    "    nodes_list = list(digraph)\n",
    "    num_nodes = len(nodes_list)\n",
    "    \n",
    "    L1 = np.zeros((num_nodes, num_nodes))\n",
    "    \n",
    "    for x, n1 in enumerate(nodes_list):\n",
    "        if digraph.out_degree(n1) == 0:\n",
    "            for y in range(num_nodes):\n",
    "                L1[y, x] = 1/num_nodes\n",
    "        else:\n",
    "            for y, n2 in enumerate(nodes_list):\n",
    "                if digraph.has_edge(n1, n2):\n",
    "                    L1[y, x] = 1/digraph.out_degree(n1)\n",
    "                    \n",
    "    L2 = np.full((num_nodes, num_nodes), 1/num_nodes)\n",
    "    \n",
    "    L = damping_factor*L1 + (1-damping_factor)*L2\n",
    "    \n",
    "    r = np.full((num_nodes, 1), 1/num_nodes)\n",
    "    \n",
    "    for i in range(max_iters):\n",
    "        prev_r = r\n",
    "        r = np.dot(L, r)\n",
    "        if (r == prev_r).all():\n",
    "            break\n",
    "    \n",
    "    tmp = {}\n",
    "    \n",
    "    for i, node in enumerate(nodes_list):\n",
    "        tmp[node] = r[i, 0]\n",
    "        \n",
    "    tmp = sorted(tmp.items(), key = lambda x: (x[1], x[0]))\n",
    "    \n",
    "    pr_list = []\n",
    "    \n",
    "    for i, pair in enumerate(tmp[::-1]):\n",
    "        pr_list.append((pair[0], pair[1], i+1))\n",
    "        \n",
    "    return pr_list"
   ]
  },
  {
   "cell_type": "code",
   "execution_count": 5,
   "metadata": {},
   "outputs": [
    {
     "name": "stdout",
     "output_type": "stream",
     "text": [
      "[('C', 0.3231019549313691, 1), ('B', 0.27772952297064724, 2), ('A', 0.22435019125215086, 3), ('D', 0.17481833084583184, 4)]\n"
     ]
    }
   ],
   "source": [
    "print(pagerank_power_iteration(G))"
   ]
  },
  {
   "cell_type": "markdown",
   "metadata": {},
   "source": [
    "## PageRank Calculation using a Random Walk Simulation\n",
    "\n",
    "The following function `pagerank_random_walk` computes the PageRanks of all involved pages using a more empirical technique, i.e., a random walk simulation. By simulating the movements of a user among the pages, we estimate the PageRank of each page as the fraction of total time that the user spends on that page."
   ]
  },
  {
   "cell_type": "code",
   "execution_count": 6,
   "metadata": {},
   "outputs": [],
   "source": [
    "def pagerank_random_walk(digraph, num_iters=1000000, damping_factor = 0.85):\n",
    "    \"\"\"\n",
    "    Uses the random walk method to determine and return a list of tuples of the form\n",
    "    (node name, PageRank of node, relative rank of node), sorted in decreasing order of PageRank.\n",
    "    \n",
    "    Parameters\n",
    "    ----------\n",
    "    digraph : networkx.classes.digraph.DiGraph object\n",
    "        A directed graph, in which PageRanks of nodes are to be calculated.\n",
    "    num_iters : int\n",
    "        The number of iterations (random walk movements) in the algorithm. Default value is 1,000,000.\n",
    "    damping_factor : float\n",
    "        The probability (between 0 and 1), at any random walk step, of a user jumping to a random node in the\n",
    "        graph instead of moving to a neighbor node. Default value is 0.85.\n",
    "    \n",
    "    Returns\n",
    "    -------\n",
    "    list\n",
    "        A list of tuples of the form (node name, PageRank of node, relative rank of node), sorted in decreasing\n",
    "        order of PageRank.\n",
    "    \"\"\"\n",
    "    dict_counts = {}\n",
    "    \n",
    "    for node in list(digraph):\n",
    "        dict_counts[node] = 0\n",
    "        \n",
    "    current_node = random.choice(list(digraph))\n",
    "    \n",
    "    for i in range(num_iters):\n",
    "        dict_counts[current_node] += 1\n",
    "        neighbors = list(digraph.neighbors(current_node))\n",
    "        random_jump = np.random.choice([True, False], p=[1.0-damping_factor, damping_factor])\n",
    "        if len(neighbors) == 0 or random_jump:\n",
    "            current_node = random.choice(list(digraph))\n",
    "        else:\n",
    "            current_node = random.choice(neighbors)\n",
    "            \n",
    "    for k in dict_counts.keys():\n",
    "        dict_counts[k] /= num_iters\n",
    "        \n",
    "    tmp = sorted(dict_counts.items(), key = lambda x: (x[1], x[0]))\n",
    "    \n",
    "    pr_list = []\n",
    "    \n",
    "    for i, pair in enumerate(tmp[::-1]):\n",
    "        pr_list.append((pair[0], pair[1], i+1))\n",
    "        \n",
    "    return pr_list"
   ]
  },
  {
   "cell_type": "code",
   "execution_count": 7,
   "metadata": {},
   "outputs": [
    {
     "name": "stdout",
     "output_type": "stream",
     "text": [
      "[('C', 0.32303, 1), ('B', 0.277645, 2), ('A', 0.224222, 3), ('D', 0.175103, 4)]\n"
     ]
    }
   ],
   "source": [
    "print(pagerank_random_walk(G))"
   ]
  },
  {
   "cell_type": "markdown",
   "metadata": {},
   "source": [
    "## Comparison\n",
    "\n",
    "Python's NetworkX package also has an inbuilt function `pagerank` to calculate PageRanks of pages. Let's see how our results from above compare with the results of the `pagerank` function."
   ]
  },
  {
   "cell_type": "code",
   "execution_count": 8,
   "metadata": {},
   "outputs": [
    {
     "data": {
      "text/plain": [
       "[('C', 0.3231025807001189, 1),\n",
       " ('B', 0.27772997055023435, 2),\n",
       " ('A', 0.22434968170057584, 3),\n",
       " ('D', 0.1748177670490708, 4)]"
      ]
     },
     "execution_count": 8,
     "metadata": {},
     "output_type": "execute_result"
    }
   ],
   "source": [
    "pr_dict = nx.pagerank(G)\n",
    "\n",
    "tmp = sorted(pr_dict.items(), key = lambda x : (x[1], x[0]))\n",
    "\n",
    "pr_list = []\n",
    "    \n",
    "for i, pair in enumerate(tmp[::-1]):\n",
    "    pr_list.append((pair[0], pair[1], i+1))\n",
    "\n",
    "pr_list"
   ]
  },
  {
   "cell_type": "markdown",
   "metadata": {},
   "source": [
    "Well, the results are close enough! :)"
   ]
  }
 ],
 "metadata": {
  "kernelspec": {
   "display_name": "Python 3",
   "language": "python",
   "name": "python3"
  },
  "language_info": {
   "codemirror_mode": {
    "name": "ipython",
    "version": 3
   },
   "file_extension": ".py",
   "mimetype": "text/x-python",
   "name": "python",
   "nbconvert_exporter": "python",
   "pygments_lexer": "ipython3",
   "version": "3.7.6"
  }
 },
 "nbformat": 4,
 "nbformat_minor": 4
}
